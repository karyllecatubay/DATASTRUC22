{
 "cells": [
  {
   "cell_type": "markdown",
   "id": "80aeeb30-da05-48d9-9767-5a915906bc92",
   "metadata": {},
   "source": [
    "## TUPLES, LISTS AND DICTIONARIES"
   ]
  },
  {
   "cell_type": "markdown",
   "id": "1cd2df85-96b3-46d2-91dd-dcd831b788c0",
   "metadata": {},
   "source": [
    "## Review Question 1"
   ]
  },
  {
   "cell_type": "code",
   "execution_count": 10,
   "id": "ea26e0ac-5de5-4586-9c28-db5ceefc62d8",
   "metadata": {},
   "outputs": [
    {
     "name": "stdout",
     "output_type": "stream",
     "text": [
      "('FIRST', 'SECOND', 'THIRD')\n"
     ]
    }
   ],
   "source": [
    "cardinal_numbers = (\"FIRST\", \"SECOND\", \"THIRD\")\n",
    "print(cardinal_numbers)"
   ]
  },
  {
   "cell_type": "code",
   "execution_count": 11,
   "id": "bf99c65a-e033-47b1-9118-f33e7794f1f2",
   "metadata": {},
   "outputs": [
    {
     "name": "stdout",
     "output_type": "stream",
     "text": [
      "SECOND\n"
     ]
    }
   ],
   "source": [
    "cardinal_numbers = (\"FIRST\", \"SECOND\", \"THIRD\")\n",
    "print(cardinal_numbers[1])"
   ]
  },
  {
   "cell_type": "code",
   "execution_count": 13,
   "id": "e33ea5e9-365a-45d2-80f0-b77469725732",
   "metadata": {},
   "outputs": [
    {
     "name": "stdout",
     "output_type": "stream",
     "text": [
      "FIRST\n",
      "SECOND\n",
      "THIRD\n"
     ]
    }
   ],
   "source": [
    "position1, position2, position3 = cardinal_numbers\n",
    "print(position1)\n",
    "print(position2)\n",
    "print(position3)"
   ]
  },
  {
   "cell_type": "code",
   "execution_count": 14,
   "id": "8ed00b6a-d1a9-4509-9160-c47109cd834d",
   "metadata": {},
   "outputs": [],
   "source": [
    "my_name = (\"Karylle\")"
   ]
  },
  {
   "cell_type": "code",
   "execution_count": 15,
   "id": "c4145f14-c562-495f-8005-6507fa9208a4",
   "metadata": {},
   "outputs": [
    {
     "name": "stdout",
     "output_type": "stream",
     "text": [
      "False\n"
     ]
    }
   ],
   "source": [
    "my_name = (\"Karylle\")\n",
    "print(\"X\" in my_name)"
   ]
  },
  {
   "cell_type": "code",
   "execution_count": 16,
   "id": "1aec321c-4425-4854-a905-16910b712694",
   "metadata": {},
   "outputs": [
    {
     "name": "stdout",
     "output_type": "stream",
     "text": [
      "arylle\n"
     ]
    }
   ],
   "source": [
    "my_name = (\"Karylle\")\n",
    "all_but_first = my_name[1:]\n",
    "print(all_but_first)"
   ]
  },
  {
   "cell_type": "markdown",
   "id": "758903e4-295f-4e9a-8fd7-469d62e5e046",
   "metadata": {},
   "source": [
    "## Review Question 2"
   ]
  },
  {
   "cell_type": "code",
   "execution_count": 30,
   "id": "b6705a27-c970-4571-932b-b55408da1a63",
   "metadata": {},
   "outputs": [],
   "source": [
    "food = [\"rice\", \"beans\"]"
   ]
  },
  {
   "cell_type": "code",
   "execution_count": 31,
   "id": "c1ba4777-5aba-44f4-86dd-d430bc05096e",
   "metadata": {},
   "outputs": [
    {
     "data": {
      "text/plain": [
       "['rice', 'beans', 'broccoli']"
      ]
     },
     "execution_count": 31,
     "metadata": {},
     "output_type": "execute_result"
    }
   ],
   "source": [
    "food.append(\"broccoli\")\n",
    "food"
   ]
  },
  {
   "cell_type": "code",
   "execution_count": 32,
   "id": "8529aac6-d7a0-4245-97d7-9bfc2fc26b39",
   "metadata": {},
   "outputs": [
    {
     "data": {
      "text/plain": [
       "['rice', 'beans', 'broccoli', 'bread', 'pizza']"
      ]
     },
     "execution_count": 32,
     "metadata": {},
     "output_type": "execute_result"
    }
   ],
   "source": [
    "food.extend([\"bread\", \"pizza\"])\n",
    "food"
   ]
  },
  {
   "cell_type": "code",
   "execution_count": 33,
   "id": "55288a08-d771-4ff1-94d0-e59b6f2c185d",
   "metadata": {},
   "outputs": [
    {
     "name": "stdout",
     "output_type": "stream",
     "text": [
      "['rice', 'beans']\n"
     ]
    }
   ],
   "source": [
    "print(food[:2])"
   ]
  },
  {
   "cell_type": "code",
   "execution_count": 34,
   "id": "74f960b6-1065-4b67-9503-895842632576",
   "metadata": {},
   "outputs": [
    {
     "name": "stdout",
     "output_type": "stream",
     "text": [
      "pizza\n"
     ]
    }
   ],
   "source": [
    "print(food[-1])"
   ]
  },
  {
   "cell_type": "code",
   "execution_count": 44,
   "id": "349a486a-97ea-4d01-9121-b5ed37adf877",
   "metadata": {},
   "outputs": [],
   "source": [
    "breakfast = \"eggs, fruit, orange juice\".split(\",\")"
   ]
  },
  {
   "cell_type": "code",
   "execution_count": 45,
   "id": "20d4fb94-4cc8-4fcb-8cef-9b1eb417b7cf",
   "metadata": {},
   "outputs": [
    {
     "name": "stdout",
     "output_type": "stream",
     "text": [
      "3\n"
     ]
    }
   ],
   "source": [
    "print(len(breakfast))"
   ]
  },
  {
   "cell_type": "code",
   "execution_count": 46,
   "id": "3c9e2b30-fcc2-40c2-9a31-6a2b63147a52",
   "metadata": {},
   "outputs": [
    {
     "name": "stdout",
     "output_type": "stream",
     "text": [
      "[4, 6, 13]\n"
     ]
    }
   ],
   "source": [
    "lengths = [len(item) for item in breakfast]\n",
    "print(lengths)"
   ]
  },
  {
   "cell_type": "markdown",
   "id": "24250f4a-f7d3-49ff-a6e2-50f00964282d",
   "metadata": {},
   "source": [
    "## Review Question 3"
   ]
  },
  {
   "cell_type": "code",
   "execution_count": 51,
   "id": "60d27227-3ced-437d-8d74-727f4c3d5e2d",
   "metadata": {},
   "outputs": [],
   "source": [
    "data = ((1,2), (3,4))"
   ]
  },
  {
   "cell_type": "code",
   "execution_count": 52,
   "id": "061c8b5c-df10-4f2b-9b12-a52cda817dbe",
   "metadata": {},
   "outputs": [
    {
     "name": "stdout",
     "output_type": "stream",
     "text": [
      "Row 1 sum: 3\n",
      "Row 2 sum: 7\n"
     ]
    }
   ],
   "source": [
    "for i, tup in enumerate(data, start=1):\n",
    "    print(f\"Row {i} sum: {sum(tup)}\")"
   ]
  },
  {
   "cell_type": "code",
   "execution_count": 58,
   "id": "dc3969f6-1e4e-409d-ae81-8ad2a422bf14",
   "metadata": {},
   "outputs": [
    {
     "name": "stdout",
     "output_type": "stream",
     "text": [
      "Copy: [3, 4, 1, 2]\n",
      "Sorted: [1, 2, 3, 4]\n"
     ]
    }
   ],
   "source": [
    "numbers = [3, 4, 1, 2]\n",
    "numbers_copy = numbers[:]\n",
    "\n",
    "numbers.sort()\n",
    "\n",
    "print(\"Copy:\", numbers_copy)\n",
    "print(\"Sorted:\", numbers)"
   ]
  },
  {
   "cell_type": "markdown",
   "id": "cb684601-7823-4780-9fbd-15facdbaaaf4",
   "metadata": {},
   "source": [
    "## Challenge: List of List"
   ]
  },
  {
   "cell_type": "code",
   "execution_count": null,
   "id": "6a58aaa6-9486-467d-92f1-3a868c2b532a",
   "metadata": {},
   "outputs": [],
   "source": []
  },
  {
   "cell_type": "markdown",
   "id": "5686e850-7968-4b36-8b84-8f310c255d03",
   "metadata": {},
   "source": [
    "## Challenge: Wax Poetic"
   ]
  },
  {
   "cell_type": "code",
   "execution_count": 59,
   "id": "708d53e5-cf6f-4ac1-899e-f4e190751399",
   "metadata": {},
   "outputs": [],
   "source": [
    "nouns = [\"FOSSIL\", \"HORSE\", \"AARDVARK\", \"JUDGE\", \"CHEF\", \"MANGO\", \"EXTROVERT\", \"GORILLA\"]\n",
    "verbs = [\"KICKS\", \"JINGLES\", \"BOUNCES\", \"SLURPS\", \"MEOWS\", \"EXPLODES\", \"CURDLES\"]\n",
    "adjectives = [\"FURRY\", \"BALDING\", \"INCREDULOUS\", \"FRAGRANT\", \"EXUBERANT\", \"GLISTENING\"]\n",
    "prepositions = [\"AGAINST\", \"AFTER\", \"INTO\", \"BENEATH\", \"UPON\", \"FOR\", \"IN\", \"LIKE\", \"OVER\", \"WITHIN\"]\n",
    "adverbs = [\"CURIOUSLY\", \"FURIOUSLY\", \"SENSUOUSLY\", \"EXTRAVAGANTLY\", \"TANTALIZINGLY\"]"
   ]
  },
  {
   "cell_type": "code",
   "execution_count": null,
   "id": "1e0dc95b-6f2a-4b15-903e-f50c917c5974",
   "metadata": {},
   "outputs": [],
   "source": []
  }
 ],
 "metadata": {
  "kernelspec": {
   "display_name": "Python 3 (ipykernel)",
   "language": "python",
   "name": "python3"
  },
  "language_info": {
   "codemirror_mode": {
    "name": "ipython",
    "version": 3
   },
   "file_extension": ".py",
   "mimetype": "text/x-python",
   "name": "python",
   "nbconvert_exporter": "python",
   "pygments_lexer": "ipython3",
   "version": "3.13.5"
  }
 },
 "nbformat": 4,
 "nbformat_minor": 5
}
